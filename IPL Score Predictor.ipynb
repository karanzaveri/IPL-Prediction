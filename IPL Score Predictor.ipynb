{
 "cells": [
  {
   "cell_type": "code",
   "execution_count": 1,
   "id": "e7102630",
   "metadata": {},
   "outputs": [
    {
     "name": "stdout",
     "output_type": "stream",
     "text": [
      "WARNING:tensorflow:From C:\\Users\\91720\\anaconda3\\Lib\\site-packages\\keras\\src\\losses.py:2976: The name tf.losses.sparse_softmax_cross_entropy is deprecated. Please use tf.compat.v1.losses.sparse_softmax_cross_entropy instead.\n",
      "\n"
     ]
    }
   ],
   "source": [
    "import pandas as pd\n",
    "import numpy as np\n",
    "import matplotlib.pyplot as plt\n",
    "import seaborn as sns\n",
    "from sklearn import preprocessing\n",
    "import keras\n",
    "import tensorflow as tf"
   ]
  },
  {
   "cell_type": "code",
   "execution_count": null,
   "id": "49669a08",
   "metadata": {},
   "outputs": [],
   "source": [
    "#pip install -U tensorflow"
   ]
  },
  {
   "cell_type": "code",
   "execution_count": 3,
   "id": "32206f4f",
   "metadata": {},
   "outputs": [
    {
     "data": {
      "text/html": [
       "<div>\n",
       "<style scoped>\n",
       "    .dataframe tbody tr th:only-of-type {\n",
       "        vertical-align: middle;\n",
       "    }\n",
       "\n",
       "    .dataframe tbody tr th {\n",
       "        vertical-align: top;\n",
       "    }\n",
       "\n",
       "    .dataframe thead th {\n",
       "        text-align: right;\n",
       "    }\n",
       "</style>\n",
       "<table border=\"1\" class=\"dataframe\">\n",
       "  <thead>\n",
       "    <tr style=\"text-align: right;\">\n",
       "      <th></th>\n",
       "      <th>mid</th>\n",
       "      <th>date</th>\n",
       "      <th>venue</th>\n",
       "      <th>bat_team</th>\n",
       "      <th>bowl_team</th>\n",
       "      <th>batsman</th>\n",
       "      <th>bowler</th>\n",
       "      <th>runs</th>\n",
       "      <th>wickets</th>\n",
       "      <th>overs</th>\n",
       "      <th>runs_last_5</th>\n",
       "      <th>wickets_last_5</th>\n",
       "      <th>striker</th>\n",
       "      <th>non-striker</th>\n",
       "      <th>total</th>\n",
       "    </tr>\n",
       "  </thead>\n",
       "  <tbody>\n",
       "    <tr>\n",
       "      <th>0</th>\n",
       "      <td>1</td>\n",
       "      <td>2008-04-18</td>\n",
       "      <td>M Chinnaswamy Stadium</td>\n",
       "      <td>Kolkata Knight Riders</td>\n",
       "      <td>Royal Challengers Bangalore</td>\n",
       "      <td>SC Ganguly</td>\n",
       "      <td>P Kumar</td>\n",
       "      <td>1</td>\n",
       "      <td>0</td>\n",
       "      <td>0.1</td>\n",
       "      <td>1</td>\n",
       "      <td>0</td>\n",
       "      <td>0</td>\n",
       "      <td>0</td>\n",
       "      <td>222</td>\n",
       "    </tr>\n",
       "    <tr>\n",
       "      <th>1</th>\n",
       "      <td>1</td>\n",
       "      <td>2008-04-18</td>\n",
       "      <td>M Chinnaswamy Stadium</td>\n",
       "      <td>Kolkata Knight Riders</td>\n",
       "      <td>Royal Challengers Bangalore</td>\n",
       "      <td>BB McCullum</td>\n",
       "      <td>P Kumar</td>\n",
       "      <td>1</td>\n",
       "      <td>0</td>\n",
       "      <td>0.2</td>\n",
       "      <td>1</td>\n",
       "      <td>0</td>\n",
       "      <td>0</td>\n",
       "      <td>0</td>\n",
       "      <td>222</td>\n",
       "    </tr>\n",
       "    <tr>\n",
       "      <th>2</th>\n",
       "      <td>1</td>\n",
       "      <td>2008-04-18</td>\n",
       "      <td>M Chinnaswamy Stadium</td>\n",
       "      <td>Kolkata Knight Riders</td>\n",
       "      <td>Royal Challengers Bangalore</td>\n",
       "      <td>BB McCullum</td>\n",
       "      <td>P Kumar</td>\n",
       "      <td>2</td>\n",
       "      <td>0</td>\n",
       "      <td>0.2</td>\n",
       "      <td>2</td>\n",
       "      <td>0</td>\n",
       "      <td>0</td>\n",
       "      <td>0</td>\n",
       "      <td>222</td>\n",
       "    </tr>\n",
       "    <tr>\n",
       "      <th>3</th>\n",
       "      <td>1</td>\n",
       "      <td>2008-04-18</td>\n",
       "      <td>M Chinnaswamy Stadium</td>\n",
       "      <td>Kolkata Knight Riders</td>\n",
       "      <td>Royal Challengers Bangalore</td>\n",
       "      <td>BB McCullum</td>\n",
       "      <td>P Kumar</td>\n",
       "      <td>2</td>\n",
       "      <td>0</td>\n",
       "      <td>0.3</td>\n",
       "      <td>2</td>\n",
       "      <td>0</td>\n",
       "      <td>0</td>\n",
       "      <td>0</td>\n",
       "      <td>222</td>\n",
       "    </tr>\n",
       "    <tr>\n",
       "      <th>4</th>\n",
       "      <td>1</td>\n",
       "      <td>2008-04-18</td>\n",
       "      <td>M Chinnaswamy Stadium</td>\n",
       "      <td>Kolkata Knight Riders</td>\n",
       "      <td>Royal Challengers Bangalore</td>\n",
       "      <td>BB McCullum</td>\n",
       "      <td>P Kumar</td>\n",
       "      <td>2</td>\n",
       "      <td>0</td>\n",
       "      <td>0.4</td>\n",
       "      <td>2</td>\n",
       "      <td>0</td>\n",
       "      <td>0</td>\n",
       "      <td>0</td>\n",
       "      <td>222</td>\n",
       "    </tr>\n",
       "  </tbody>\n",
       "</table>\n",
       "</div>"
      ],
      "text/plain": [
       "   mid        date                  venue               bat_team  \\\n",
       "0    1  2008-04-18  M Chinnaswamy Stadium  Kolkata Knight Riders   \n",
       "1    1  2008-04-18  M Chinnaswamy Stadium  Kolkata Knight Riders   \n",
       "2    1  2008-04-18  M Chinnaswamy Stadium  Kolkata Knight Riders   \n",
       "3    1  2008-04-18  M Chinnaswamy Stadium  Kolkata Knight Riders   \n",
       "4    1  2008-04-18  M Chinnaswamy Stadium  Kolkata Knight Riders   \n",
       "\n",
       "                     bowl_team      batsman   bowler  runs  wickets  overs  \\\n",
       "0  Royal Challengers Bangalore   SC Ganguly  P Kumar     1        0    0.1   \n",
       "1  Royal Challengers Bangalore  BB McCullum  P Kumar     1        0    0.2   \n",
       "2  Royal Challengers Bangalore  BB McCullum  P Kumar     2        0    0.2   \n",
       "3  Royal Challengers Bangalore  BB McCullum  P Kumar     2        0    0.3   \n",
       "4  Royal Challengers Bangalore  BB McCullum  P Kumar     2        0    0.4   \n",
       "\n",
       "   runs_last_5  wickets_last_5  striker  non-striker  total  \n",
       "0            1               0        0            0    222  \n",
       "1            1               0        0            0    222  \n",
       "2            2               0        0            0    222  \n",
       "3            2               0        0            0    222  \n",
       "4            2               0        0            0    222  "
      ]
     },
     "execution_count": 3,
     "metadata": {},
     "output_type": "execute_result"
    }
   ],
   "source": [
    "ipl = pd.read_csv('ipl_data.csv')\n",
    "ipl.head()"
   ]
  },
  {
   "cell_type": "code",
   "execution_count": 4,
   "id": "06618e6b",
   "metadata": {},
   "outputs": [],
   "source": [
    "#Dropping certain features \n",
    "df = ipl.drop(['date', 'runs', 'wickets', 'overs', 'runs_last_5', 'wickets_last_5','mid', 'striker', 'non-striker'], axis =1)"
   ]
  },
  {
   "cell_type": "code",
   "execution_count": 5,
   "id": "bd2b1cae",
   "metadata": {},
   "outputs": [],
   "source": [
    "X = df.drop(['total'], axis =1)\n",
    "y = df['total']"
   ]
  },
  {
   "cell_type": "code",
   "execution_count": 6,
   "id": "88bdb3bb",
   "metadata": {},
   "outputs": [],
   "source": [
    "#Label Encoding\n",
    "\n",
    "from sklearn.preprocessing import LabelEncoder\n",
    "\n",
    "# Create a LabelEncoder object for each categorical feature\n",
    "venue_encoder = LabelEncoder()\n",
    "batting_team_encoder = LabelEncoder()\n",
    "bowling_team_encoder = LabelEncoder()\n",
    "striker_encoder = LabelEncoder()\n",
    "bowler_encoder = LabelEncoder()\n",
    "\n",
    "# Fit and transform the categorical features with label encoding\n",
    "X['venue'] = venue_encoder.fit_transform(X['venue'])\n",
    "X['bat_team'] = batting_team_encoder.fit_transform(X['bat_team'])\n",
    "X['bowl_team'] = bowling_team_encoder.fit_transform(X['bowl_team'])\n",
    "X['batsman'] = striker_encoder.fit_transform(X['batsman'])\n",
    "X['bowler'] = bowler_encoder.fit_transform(X['bowler'])"
   ]
  },
  {
   "cell_type": "code",
   "execution_count": 7,
   "id": "657f722d",
   "metadata": {},
   "outputs": [],
   "source": [
    "# Train test Split \n",
    "from sklearn.model_selection import train_test_split\n",
    "X_train, X_test, y_train, y_test = train_test_split(X, y, test_size=0.3, random_state=42)"
   ]
  },
  {
   "cell_type": "code",
   "execution_count": 8,
   "id": "dbdc4b3f",
   "metadata": {},
   "outputs": [],
   "source": [
    "from sklearn.preprocessing import MinMaxScaler\n",
    "\n",
    "scaler = MinMaxScaler()\n",
    "\n",
    "# Fit the scaler on the training data and transform both training and testing data\n",
    "X_train_scaled = scaler.fit_transform(X_train)\n",
    "X_test_scaled = scaler.transform(X_test)"
   ]
  },
  {
   "cell_type": "code",
   "execution_count": 9,
   "id": "8c9e2d1d",
   "metadata": {},
   "outputs": [
    {
     "name": "stdout",
     "output_type": "stream",
     "text": [
      "WARNING:tensorflow:From C:\\Users\\91720\\anaconda3\\Lib\\site-packages\\keras\\src\\backend.py:1398: The name tf.executing_eagerly_outside_functions is deprecated. Please use tf.compat.v1.executing_eagerly_outside_functions instead.\n",
      "\n",
      "WARNING:tensorflow:From C:\\Users\\91720\\anaconda3\\Lib\\site-packages\\keras\\src\\optimizers\\__init__.py:309: The name tf.train.Optimizer is deprecated. Please use tf.compat.v1.train.Optimizer instead.\n",
      "\n"
     ]
    }
   ],
   "source": [
    "# Define the neural network model\n",
    "model = keras.Sequential([\n",
    "    keras.layers.Input( shape=(X_train_scaled.shape[1],)), # Input layer\n",
    "    keras.layers.Dense(512, activation='relu'),\n",
    "    keras.layers.Dense(216, activation='relu'),\n",
    "    keras.layers.Dense(1, activation='linear') \n",
    "])\n",
    "\n",
    "# Compile the model with Huber loss\n",
    "huber_loss = tf.keras.losses.Huber(delta=1.0) # You can adjust the 'delta' parameter as needed\n",
    "model.compile(optimizer='adam', loss=huber_loss) # Use Huber loss for regression"
   ]
  },
  {
   "cell_type": "code",
   "execution_count": 10,
   "id": "600f1fef",
   "metadata": {},
   "outputs": [
    {
     "name": "stdout",
     "output_type": "stream",
     "text": [
      "Epoch 1/50\n",
      "WARNING:tensorflow:From C:\\Users\\91720\\anaconda3\\Lib\\site-packages\\keras\\src\\utils\\tf_utils.py:492: The name tf.ragged.RaggedTensorValue is deprecated. Please use tf.compat.v1.ragged.RaggedTensorValue instead.\n",
      "\n",
      "832/832 [==============================] - 5s 5ms/step - loss: 32.1060 - val_loss: 22.2053\n",
      "Epoch 2/50\n",
      "832/832 [==============================] - 4s 4ms/step - loss: 22.3559 - val_loss: 22.1750\n",
      "Epoch 3/50\n",
      "832/832 [==============================] - 4s 5ms/step - loss: 22.2963 - val_loss: 21.9877\n",
      "Epoch 4/50\n",
      "832/832 [==============================] - 4s 5ms/step - loss: 22.2184 - val_loss: 22.4905\n",
      "Epoch 5/50\n",
      "832/832 [==============================] - 4s 5ms/step - loss: 22.1887 - val_loss: 21.8703\n",
      "Epoch 6/50\n",
      "832/832 [==============================] - 4s 5ms/step - loss: 22.1520 - val_loss: 22.1785\n",
      "Epoch 7/50\n",
      "832/832 [==============================] - 4s 4ms/step - loss: 22.1669 - val_loss: 22.0018\n",
      "Epoch 8/50\n",
      "832/832 [==============================] - 4s 4ms/step - loss: 22.1592 - val_loss: 21.7924\n",
      "Epoch 9/50\n",
      "832/832 [==============================] - 4s 4ms/step - loss: 22.1229 - val_loss: 21.7785\n",
      "Epoch 10/50\n",
      "832/832 [==============================] - 4s 5ms/step - loss: 22.1074 - val_loss: 21.9049\n",
      "Epoch 11/50\n",
      "832/832 [==============================] - 4s 4ms/step - loss: 22.1052 - val_loss: 21.7750\n",
      "Epoch 12/50\n",
      "832/832 [==============================] - 4s 5ms/step - loss: 22.0883 - val_loss: 21.8330\n",
      "Epoch 13/50\n",
      "832/832 [==============================] - 4s 5ms/step - loss: 22.0839 - val_loss: 21.9750\n",
      "Epoch 14/50\n",
      "832/832 [==============================] - 4s 5ms/step - loss: 22.0830 - val_loss: 21.8404\n",
      "Epoch 15/50\n",
      "832/832 [==============================] - 4s 4ms/step - loss: 21.9836 - val_loss: 21.6884\n",
      "Epoch 16/50\n",
      "832/832 [==============================] - 4s 4ms/step - loss: 21.9300 - val_loss: 21.8056\n",
      "Epoch 17/50\n",
      "832/832 [==============================] - 4s 5ms/step - loss: 21.8592 - val_loss: 21.5308\n",
      "Epoch 18/50\n",
      "832/832 [==============================] - 4s 5ms/step - loss: 21.7759 - val_loss: 21.4875\n",
      "Epoch 19/50\n",
      "832/832 [==============================] - 4s 5ms/step - loss: 21.7467 - val_loss: 21.5484\n",
      "Epoch 20/50\n",
      "832/832 [==============================] - 4s 4ms/step - loss: 21.6970 - val_loss: 21.3702\n",
      "Epoch 21/50\n",
      "832/832 [==============================] - 4s 5ms/step - loss: 21.6755 - val_loss: 21.4108\n",
      "Epoch 22/50\n",
      "832/832 [==============================] - 4s 5ms/step - loss: 21.5968 - val_loss: 21.2708\n",
      "Epoch 23/50\n",
      "832/832 [==============================] - 4s 5ms/step - loss: 21.5659 - val_loss: 21.5062\n",
      "Epoch 24/50\n",
      "832/832 [==============================] - 4s 5ms/step - loss: 21.5564 - val_loss: 21.4874\n",
      "Epoch 25/50\n",
      "832/832 [==============================] - 4s 4ms/step - loss: 21.4515 - val_loss: 21.1829\n",
      "Epoch 26/50\n",
      "832/832 [==============================] - 4s 5ms/step - loss: 21.4173 - val_loss: 21.1024\n",
      "Epoch 27/50\n",
      "832/832 [==============================] - 4s 4ms/step - loss: 21.3496 - val_loss: 21.1208\n",
      "Epoch 28/50\n",
      "832/832 [==============================] - 4s 5ms/step - loss: 21.3053 - val_loss: 21.0362\n",
      "Epoch 29/50\n",
      "832/832 [==============================] - 4s 5ms/step - loss: 21.2577 - val_loss: 20.9337\n",
      "Epoch 30/50\n",
      "832/832 [==============================] - 4s 4ms/step - loss: 21.2163 - val_loss: 20.8612\n",
      "Epoch 31/50\n",
      "832/832 [==============================] - 4s 5ms/step - loss: 21.0824 - val_loss: 20.9704\n",
      "Epoch 32/50\n",
      "832/832 [==============================] - 4s 4ms/step - loss: 21.0837 - val_loss: 20.8116\n",
      "Epoch 33/50\n",
      "832/832 [==============================] - 4s 4ms/step - loss: 20.9826 - val_loss: 20.6740\n",
      "Epoch 34/50\n",
      "832/832 [==============================] - 3s 4ms/step - loss: 20.9126 - val_loss: 20.5221\n",
      "Epoch 35/50\n",
      "832/832 [==============================] - 4s 4ms/step - loss: 20.7702 - val_loss: 20.4451\n",
      "Epoch 36/50\n",
      "832/832 [==============================] - 3s 4ms/step - loss: 20.6628 - val_loss: 20.7680\n",
      "Epoch 37/50\n",
      "832/832 [==============================] - 3s 4ms/step - loss: 20.5065 - val_loss: 20.2945\n",
      "Epoch 38/50\n",
      "832/832 [==============================] - 3s 4ms/step - loss: 20.4277 - val_loss: 20.0817\n",
      "Epoch 39/50\n",
      "832/832 [==============================] - 3s 4ms/step - loss: 20.3073 - val_loss: 19.9869\n",
      "Epoch 40/50\n",
      "832/832 [==============================] - 4s 5ms/step - loss: 20.1861 - val_loss: 20.2960\n",
      "Epoch 41/50\n",
      "832/832 [==============================] - 3s 4ms/step - loss: 20.0831 - val_loss: 19.7205\n",
      "Epoch 42/50\n",
      "832/832 [==============================] - 4s 4ms/step - loss: 19.9337 - val_loss: 19.6427\n",
      "Epoch 43/50\n",
      "832/832 [==============================] - 3s 4ms/step - loss: 19.8123 - val_loss: 19.9082\n",
      "Epoch 44/50\n",
      "832/832 [==============================] - 4s 5ms/step - loss: 19.7048 - val_loss: 19.4283\n",
      "Epoch 45/50\n",
      "832/832 [==============================] - 4s 4ms/step - loss: 19.6670 - val_loss: 20.0408\n",
      "Epoch 46/50\n",
      "832/832 [==============================] - 4s 4ms/step - loss: 19.5815 - val_loss: 19.3132\n",
      "Epoch 47/50\n",
      "832/832 [==============================] - 4s 4ms/step - loss: 19.5038 - val_loss: 19.6157\n",
      "Epoch 48/50\n",
      "832/832 [==============================] - 4s 4ms/step - loss: 19.4241 - val_loss: 19.2348\n",
      "Epoch 49/50\n",
      "832/832 [==============================] - 4s 4ms/step - loss: 19.3767 - val_loss: 19.0820\n",
      "Epoch 50/50\n",
      "832/832 [==============================] - 3s 4ms/step - loss: 19.2596 - val_loss: 19.5065\n"
     ]
    },
    {
     "data": {
      "text/plain": [
       "<keras.src.callbacks.History at 0x1eef9159450>"
      ]
     },
     "execution_count": 10,
     "metadata": {},
     "output_type": "execute_result"
    }
   ],
   "source": [
    "# Train the model\n",
    "model.fit(X_train_scaled, y_train, epochs=50, batch_size=64, validation_data=(X_test_scaled, y_test))"
   ]
  },
  {
   "cell_type": "code",
   "execution_count": 11,
   "id": "e2178491",
   "metadata": {},
   "outputs": [
    {
     "data": {
      "text/plain": [
       "<Axes: >"
      ]
     },
     "execution_count": 11,
     "metadata": {},
     "output_type": "execute_result"
    },
    {
     "data": {
      "image/png": "[encoded data removed]",
      "text/plain": [
       "<Figure size 640x480 with 1 Axes>"
      ]
     },
     "metadata": {},
     "output_type": "display_data"
    }
   ],
   "source": [
    "model_losses = pd.DataFrame(model.history.history)\n",
    "model_losses.plot()"
   ]
  },
  {
   "cell_type": "code",
   "execution_count": 12,
   "id": "6f9e5e12",
   "metadata": {},
   "outputs": [
    {
     "name": "stdout",
     "output_type": "stream",
     "text": [
      "713/713 [==============================] - 2s 2ms/step\n"
     ]
    },
    {
     "data": {
      "text/plain": [
       "19.999560554904182"
      ]
     },
     "execution_count": 12,
     "metadata": {},
     "output_type": "execute_result"
    }
   ],
   "source": [
    "# Make predictions\n",
    "predictions = model.predict(X_test_scaled)\n",
    "\n",
    "from sklearn.metrics import mean_absolute_error,mean_squared_error\n",
    "mean_absolute_error(y_test,predictions)"
   ]
  },
  {
   "cell_type": "code",
   "execution_count": 18,
   "id": "09658694",
   "metadata": {},
   "outputs": [
    {
     "data": {
      "text/html": [
       "<style>.widget-label { width: 150px !important; }</style>"
      ],
      "text/plain": [
       "<IPython.core.display.HTML object>"
      ]
     },
     "metadata": {},
     "output_type": "display_data"
    },
    {
     "data": {
      "text/html": [
       "<style>.widget-label { width: 150px !important; }</style>"
      ],
      "text/plain": [
       "<IPython.core.display.HTML object>"
      ]
     },
     "metadata": {},
     "output_type": "display_data"
    },
    {
     "data": {
      "text/html": [
       "<style>.widget-label { width: 150px !important; }</style>"
      ],
      "text/plain": [
       "<IPython.core.display.HTML object>"
      ]
     },
     "metadata": {},
     "output_type": "display_data"
    },
    {
     "data": {
      "text/html": [
       "<style>.widget-label { width: 150px !important; }</style>"
      ],
      "text/plain": [
       "<IPython.core.display.HTML object>"
      ]
     },
     "metadata": {},
     "output_type": "display_data"
    },
    {
     "data": {
      "text/html": [
       "<style>.widget-label { width: 150px !important; }</style>"
      ],
      "text/plain": [
       "<IPython.core.display.HTML object>"
      ]
     },
     "metadata": {},
     "output_type": "display_data"
    }
   ],
   "source": [
    "from IPython.display import HTML, display\n",
    "\n",
    "# Function to set the style of the widget description\n",
    "def set_widget_description_style(widget, width):\n",
    "    widget.style.description_width = f\"{width}px\"\n",
    "    display(HTML(\"<style>.widget-label { width: \" + str(width) + \"px !important; }</style>\"))\n",
    "\n",
    "# Create dropdown widgets\n",
    "venue = widgets.Dropdown(options=df['venue'].unique().tolist(), description='Select Venue:')\n",
    "batting_team = widgets.Dropdown(options=df['bat_team'].unique().tolist(), description='Select Batting Team:')\n",
    "bowling_team = widgets.Dropdown(options=df['bowl_team'].unique().tolist(), description='Select Bowling Team:')\n",
    "striker = widgets.Dropdown(options=df['batsman'].unique().tolist(), description='Select Striker:')\n",
    "bowler = widgets.Dropdown(options=df['bowler'].unique().tolist(), description='Select Bowler:')\n",
    "\n",
    "# Set the style of the widget description to increase width\n",
    "set_widget_description_style(venue, 150)\n",
    "set_widget_description_style(batting_team, 150)\n",
    "set_widget_description_style(bowling_team, 150)\n",
    "set_widget_description_style(striker, 150)\n",
    "set_widget_description_style(bowler, 150)\n",
    "\n",
    "# Adjust the width of the widget container\n",
    "venue.layout.width = 'auto'\n",
    "batting_team.layout.width = 'auto'\n",
    "bowling_team.layout.width = 'auto'\n",
    "striker.layout.width = 'auto'\n",
    "bowler.layout.width = 'auto'\n",
    "\n",
    "predict_button = widgets.Button(description=\"Predict Score\")\n",
    "\n",
    "# Define the button's click event\n",
    "def predict_score(b):\n",
    "    with output:\n",
    "        clear_output() \n",
    "\n",
    "        # Decode the encoded values back to their original values\n",
    "        decoded_venue = venue_encoder.transform([venue.value])\n",
    "        decoded_batting_team = batting_team_encoder.transform([batting_team.value])\n",
    "        decoded_bowling_team = bowling_team_encoder.transform([bowling_team.value])\n",
    "        decoded_striker = striker_encoder.transform([striker.value])\n",
    "        decoded_bowler = bowler_encoder.transform([bowler.value])\n",
    "\n",
    "\n",
    "        input = np.array([decoded_venue, decoded_batting_team, decoded_bowling_team,decoded_striker, decoded_bowler])\n",
    "        input = input.reshape(1,5)\n",
    "        input = scaler.transform(input)\n",
    "        predicted_score = model.predict(input)\n",
    "        predicted_score = int(predicted_score[0,0])\n",
    "\n",
    "        print(predicted_score)"
   ]
  },
  {
   "cell_type": "code",
   "execution_count": 22,
   "id": "9a6cf49e",
   "metadata": {},
   "outputs": [
    {
     "data": {
      "application/vnd.jupyter.widget-view+json": {
       "model_id": "ef8dd079c85043e69ae13ca804ccb73a",
       "version_major": 2,
       "version_minor": 0
      },
      "text/plain": [
       "Dropdown(description='Select Venue:', layout=Layout(width='auto'), options=('M Chinnaswamy Stadium', 'Punjab C…"
      ]
     },
     "metadata": {},
     "output_type": "display_data"
    },
    {
     "data": {
      "application/vnd.jupyter.widget-view+json": {
       "model_id": "b1e6f52bc2cf479dbf026b7e4d3e02e3",
       "version_major": 2,
       "version_minor": 0
      },
      "text/plain": [
       "Dropdown(description='Select Batting Team:', layout=Layout(width='auto'), options=('Kolkata Knight Riders', 'C…"
      ]
     },
     "metadata": {},
     "output_type": "display_data"
    },
    {
     "data": {
      "application/vnd.jupyter.widget-view+json": {
       "model_id": "2532d840a2bb488389026d3f5105cb13",
       "version_major": 2,
       "version_minor": 0
      },
      "text/plain": [
       "Dropdown(description='Select Bowling Team:', index=5, layout=Layout(width='auto'), options=('Royal Challengers…"
      ]
     },
     "metadata": {},
     "output_type": "display_data"
    },
    {
     "data": {
      "application/vnd.jupyter.widget-view+json": {
       "model_id": "01aba61efd1f46ed8ee1c8a3c1263318",
       "version_major": 2,
       "version_minor": 0
      },
      "text/plain": [
       "Dropdown(description='Select Striker:', index=72, layout=Layout(width='auto'), options=('SC Ganguly', 'BB McCu…"
      ]
     },
     "metadata": {},
     "output_type": "display_data"
    },
    {
     "data": {
      "application/vnd.jupyter.widget-view+json": {
       "model_id": "db35f33c36c04526ad9e91a530642c1e",
       "version_major": 2,
       "version_minor": 0
      },
      "text/plain": [
       "Dropdown(description='Select Bowler:', index=229, layout=Layout(width='auto'), options=('P Kumar', 'Z Khan', '…"
      ]
     },
     "metadata": {},
     "output_type": "display_data"
    },
    {
     "data": {
      "application/vnd.jupyter.widget-view+json": {
       "model_id": "ec23e6f64dd442e0aaae79ad887e5d37",
       "version_major": 2,
       "version_minor": 0
      },
      "text/plain": [
       "Button(description='Predict Score', style=ButtonStyle())"
      ]
     },
     "metadata": {},
     "output_type": "display_data"
    },
    {
     "data": {
      "application/vnd.jupyter.widget-view+json": {
       "model_id": "00c8764cb806480a9a49ccf1e9337c54",
       "version_major": 2,
       "version_minor": 0
      },
      "text/plain": [
       "Output()"
      ]
     },
     "metadata": {},
     "output_type": "display_data"
    }
   ],
   "source": [
    "predict_button.on_click(predict_score)\n",
    "output = widgets.Output()\n",
    "display(venue, batting_team, bowling_team, striker, bowler, predict_button, output)"
   ]
  },
  {
   "cell_type": "code",
   "execution_count": null,
   "id": "c2d7e38c",
   "metadata": {},
   "outputs": [],
   "source": []
  }
 ],
 "metadata": {
  "kernelspec": {
   "display_name": "Python 3 (ipykernel)",
   "language": "python",
   "name": "python3"
  },
  "language_info": {
   "codemirror_mode": {
    "name": "ipython",
    "version": 3
   },
   "file_extension": ".py",
   "mimetype": "text/x-python",
   "name": "python",
   "nbconvert_exporter": "python",
   "pygments_lexer": "ipython3",
   "version": "3.11.5"
  }
 },
 "nbformat": 4,
 "nbformat_minor": 5
}
